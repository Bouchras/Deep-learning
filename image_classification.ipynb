{
  "nbformat": 4,
  "nbformat_minor": 0,
  "metadata": {
    "colab": {
      "name": "Untitled",
      "provenance": [],
      "include_colab_link": true
    },
    "kernelspec": {
      "name": "python3",
      "display_name": "Python 3"
    }
  },
  "cells": [
    {
      "cell_type": "markdown",
      "metadata": {
        "id": "view-in-github",
        "colab_type": "text"
      },
      "source": [
        "<a href=\"https://colab.research.google.com/github/Bouchras/Deep-learning/blob/master/image_classification.ipynb\" target=\"_parent\"><img src=\"https://colab.research.google.com/assets/colab-badge.svg\" alt=\"Open In Colab\"/></a>"
      ]
    },
    {
      "cell_type": "code",
      "metadata": {
        "id": "BQxVD5rmDKuv",
        "colab_type": "code",
        "outputId": "de98f303-b383-4d47-bae8-150e637424ad",
        "colab": {
          "base_uri": "https://localhost:8080/",
          "height": 155
        }
      },
      "source": [
        "#mport\n",
        "import torch\n",
        "import torchvision\n",
        "import torchvision.transforms as transforms\n",
        "\n",
        "import matplotlib.pyplot as plt\n",
        "\n",
        "import numpy as np\n",
        "\n",
        "import torch.nn as nn\n",
        "import torch.optim as optim\n",
        "from torch.autograd import Variable\n",
        "\n",
        "#Random seed\n",
        "torch.manual_seed(1)\n",
        "np.random.seed(1)\n",
        "#taille des batchs d'exemples\n",
        "batch_size = 4\n",
        "#transform image to tenso and normalize them\n",
        "transform = transforms.Compose( [ \n",
        "                                 transforms.ToTensor(),                \n",
        "                                 transforms.Normalize((0.5,), (0.5,)) \n",
        "\n",
        "])\n",
        "# Download the training set\n",
        "trainset = torchvision.datasets.FashionMNIST(root='./date', train=True, download=True, transform = transform)\n",
        "\n",
        "#Training set loader\n",
        "trainloader = torch.utils.data.DataLoader(trainset, batch_size, shuffle=False)   #organiser trainset selon batch de 4 et  ne pas mélanger\n",
        "\n",
        "#Test set\n",
        "testset = torchvision.datasets.FashionMNIST(root='./data', train=False, download=True, transform=transform)\n",
        "\n",
        "#Test set loader\n",
        "testloader = torch.utils.data.DataLoader(testset, batch_size=batch_size, shuffle=False)\n",
        "\n",
        "#Function to show 4 images of a batch\n",
        "def imshow(img):\n",
        "  img = img / 2 + 0.5    # remettre les pixels de valeurs entre [0,1]\n",
        "  npimg = img.numpy()     # transformer l'img en un tableau numpy\n",
        "  plt.imshow(np.transpose(npimg, (1,2,0))) #transposer du vertical à l'horizontal le tableau de l'image puis l'afficher\n",
        "  plt.show()                      \n",
        "#end imshow\n",
        "\n",
        "#Classes stocked in list\n",
        "classes = ('T-shirt/top', 'Trouser', 'Pullover', 'Dress', 'Coat', 'Sandal', 'Shirt', 'Sneaker', 'Bag', 'Ankle boot')  # les 10 classes auxquelles peut apportenir les images\n",
        "\n",
        "#Data set as iterator\n",
        "dataiter = iter(trainloader)  #acceder aux element du trainloader\n",
        "\n",
        "#Get next batch\n",
        "images, labels = dataiter.next()  #commencer par le premier element\n",
        "\n",
        "#Show images\n",
        "n_batches = len(dataiter)\n",
        "print(\"First 4 labels{}\".format([classes[labels[j]] for j in range(4)] ))\n",
        "imshow(torchvision.utils.make_grid(images))  #make_grid : cree une grille qui affiche cote à cote les 4 images\n",
        "\n",
        "\n",
        "\n",
        "\n",
        "\n",
        "\n",
        "\n"
      ],
      "execution_count": 3,
      "outputs": [
        {
          "output_type": "stream",
          "text": [
            "First 4 labels['Ankle boot', 'T-shirt/top', 'T-shirt/top', 'Dress']\n"
          ],
          "name": "stdout"
        },
        {
          "output_type": "display_data",
          "data": {
            "image/png": "[encoded data removed]",
            "text/plain": [
              "<Figure size 432x288 with 1 Axes>"
            ]
          },
          "metadata": {
            "tags": []
          }
        }
      ]
    },
    {
      "cell_type": "code",
      "metadata": {
        "id": "_rGr1kYhDPrI",
        "colab_type": "code",
        "colab": {}
      },
      "source": [
        ""
      ],
      "execution_count": 0,
      "outputs": []
    }
  ]
}